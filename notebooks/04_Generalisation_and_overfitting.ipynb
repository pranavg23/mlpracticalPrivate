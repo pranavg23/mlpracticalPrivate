{
 "cells": [
  {
   "cell_type": "markdown",
   "metadata": {},
   "source": [
    "# Generalisation and overfitting\n",
    "\n",
    "In this notebook we will explore the issue of overfitting and how we can measure how well the models we train generalise their predictions to unseen data. This will build upon the introduction to generalisation given in the fourth lecture."
   ]
  },
  {
   "cell_type": "markdown",
   "metadata": {},
   "source": [
    "## Exercise: overfitting and model complexity in a 1D regression problem\n",
    "\n",
    "As an exercise we will consider a regression problem. In particular, given a fixed set of (noisy) observations of the underlying functional relationship between inputs and outputs, we will attempt to use a multiple layer network model to learn to predict output values from inputs. The aim of the exercise will be to visualise how increasing the complexity of the model we fit to the training data effects the ability of the model to make predictions across the input space.\n",
    "\n",
    "### Function\n",
    "\n",
    "To keep things simple we will consider a single input-output function defined by a fourth degree polynomial (quartic)\n",
    "\n",
    "$$ f(x) = 10 x^4 - 17 x^3 + 8 x^2 - x $$\n",
    "\n",
    "with the observed values being the function values plus zero-mean Gaussian noise\n",
    "\n",
    "$$ y = f(x) + 0.01 \\epsilon \\qquad \\epsilon \\sim \\mathcal{N}\\left(\\cdot;\\,0,\\,1\\right) $$\n",
    "\n",
    "The inputs will be drawn from the uniform distribution on $[0, 1]$.\n",
    "\n",
    "First import the necessary modules and seed the random number generator by running the cell below."
   ]
  },
  {
   "cell_type": "code",
   "execution_count": 1,
   "metadata": {},
   "outputs": [],
   "source": [
    "import numpy as np\n",
    "import matplotlib.pyplot as plt\n",
    "%matplotlib inline\n",
    "plt.style.use('ggplot')\n",
    "seed = 17102016 \n",
    "rng = np.random.RandomState(seed)"
   ]
  },
  {
   "cell_type": "markdown",
   "metadata": {},
   "source": [
    "Write code in the cell below to calculate a polynomial function of one dimensional inputs. \n",
    "\n",
    "If $\\boldsymbol{c}$ is a length $P$ vector of coefficients corresponding to increasing powers in the polynomial (starting from the constant zero power term up to the $P-1^{\\textrm{th}}$ power) the function should correspond to the following\n",
    "\n",
    "\\begin{equation}\n",
    "  f_{\\textrm{polynomial}}(x,\\ \\boldsymbol{c}) = \\sum_{p=0}^{P-1} \\left( c_p x^p \\right)\n",
    "\\end{equation}"
   ]
  },
  {
   "cell_type": "code",
   "execution_count": 27,
   "metadata": {},
   "outputs": [],
   "source": [
    "def polynomial_function(inputs, coefficients):\n",
    "    \"\"\"Calculates polynomial with given coefficients of an array of inputs.\n",
    "    \n",
    "    Args:\n",
    "        inputs: One-dimensional array of input values of shape (num_inputs,)\n",
    "        coefficients: One-dimensional array of polynomial coefficient terms\n",
    "           with `coefficients[0]` corresponding to the coefficient for the\n",
    "           zero order term in the polynomial (constant) and `coefficients[-1]`\n",
    "           corresponding to the highest order term.\n",
    "           \n",
    "    Returns:\n",
    "        One dimensional array of output values of shape (num_inputs,) -> Shape shows elements along each axis, since it is a 1D, the 2nd part is empty\n",
    "    \n",
    "    \"\"\"\n",
    "    print(np.arange(coefficients.shape[0]))\n",
    "    print(inputs[:, None]**np.arange(coefficients.shape[0]))\n",
    "    return (inputs[:, None]**np.arange(coefficients.shape[0])).dot(coefficients)\n",
    "    #raise NotImplementedError()"
   ]
  },
  {
   "cell_type": "markdown",
   "metadata": {},
   "source": [
    "Run the cell below to test your implementation."
   ]
  },
  {
   "cell_type": "code",
   "execution_count": 28,
   "metadata": {},
   "outputs": [
    {
     "name": "stdout",
     "output_type": "stream",
     "text": [
      "[0 1 2]\n",
      "[[1.   0.   0.  ]\n",
      " [1.   0.5  0.25]\n",
      " [1.   1.   1.  ]\n",
      " [1.   2.   4.  ]]\n",
      "[0 1 2]\n",
      "[[1.   0.   0.  ]\n",
      " [1.   0.5  0.25]\n",
      " [1.   1.   1.  ]\n",
      " [1.   2.   4.  ]]\n"
     ]
    }
   ],
   "source": [
    "test_coefficients = np.array([-1., 3., 4.])\n",
    "test_inputs = np.array([0., 0.5, 1., 2.])\n",
    "test_outputs = np.array([-1., 1.5, 6., 21.])\n",
    "assert polynomial_function(test_inputs, test_coefficients).shape == (4,), (\n",
    "    'Function gives wrong shape output.'\n",
    ")\n",
    "assert np.allclose(polynomial_function(test_inputs, test_coefficients), test_outputs), (\n",
    "    'Function gives incorrect output values.'\n",
    ")"
   ]
  },
  {
   "cell_type": "markdown",
   "metadata": {},
   "source": [
    "We now need to use the random number generator to sample input values and calculate the corresponding target outputs using your polynomial implementation with the relevant coefficients for our function. Do this by running the cell below."
   ]
  },
  {
   "cell_type": "code",
   "execution_count": 29,
   "metadata": {},
   "outputs": [
    {
     "name": "stdout",
     "output_type": "stream",
     "text": [
      "[0 1 2 3 4]\n",
      "[[1.00000000e+00 3.23075290e-01 1.04377643e-01 3.37218372e-02\n",
      "  1.08946923e-02]\n",
      " [1.00000000e+00 3.73127590e-01 1.39224199e-01 5.19483898e-02\n",
      "  1.93833775e-02]\n",
      " [1.00000000e+00 2.95443704e-01 8.72869821e-02 2.57883893e-02\n",
      "  7.61901724e-03]\n",
      " [1.00000000e+00 6.60464548e-01 4.36213419e-01 2.88103499e-01\n",
      "  1.90282147e-01]\n",
      " [1.00000000e+00 8.40260168e-02 7.06037150e-03 5.93254895e-04\n",
      "  4.98488458e-05]\n",
      " [1.00000000e+00 1.48243811e-01 2.19762274e-02 3.25783969e-03\n",
      "  4.82954569e-04]\n",
      " [1.00000000e+00 7.16582396e-01 5.13490330e-01 3.67958131e-01\n",
      "  2.63672319e-01]\n",
      " [1.00000000e+00 6.71877864e-01 4.51419864e-01 3.03299013e-01\n",
      "  2.03779893e-01]\n",
      " [1.00000000e+00 8.19187508e-01 6.71068173e-01 5.49730664e-01\n",
      "  4.50332493e-01]\n",
      " [1.00000000e+00 1.64768071e-01 2.71485173e-02 4.47320882e-03\n",
      "  7.37041990e-04]\n",
      " [1.00000000e+00 5.15469939e-01 2.65709258e-01 1.36965135e-01\n",
      "  7.06014096e-02]\n",
      " [1.00000000e+00 8.63750678e-01 7.46065235e-01 6.44414353e-01\n",
      "  5.56613334e-01]\n",
      " [1.00000000e+00 3.74942563e-01 1.40581926e-01 5.27101476e-02\n",
      "  1.97632779e-02]\n",
      " [1.00000000e+00 5.39344297e-01 2.90892271e-01 1.56891087e-01\n",
      "  8.46183131e-02]\n",
      " [1.00000000e+00 4.23413002e-01 1.79278570e-01 7.59088774e-02\n",
      "  3.21408056e-02]\n",
      " [1.00000000e+00 6.27320395e-01 3.93530877e-01 2.46869945e-01\n",
      "  1.54866551e-01]\n",
      " [1.00000000e+00 8.16114217e-01 6.66042415e-01 5.43566684e-01\n",
      "  4.43612499e-01]\n",
      " [1.00000000e+00 7.85538423e-01 6.17070613e-01 4.84732676e-01\n",
      "  3.80776142e-01]\n",
      " [1.00000000e+00 2.19434262e-01 4.81513954e-02 1.05660659e-02\n",
      "  2.31855688e-03]\n",
      " [1.00000000e+00 6.21452457e-01 3.86203156e-01 2.40006900e-01\n",
      "  1.49152878e-01]\n",
      " [1.00000000e+00 8.18055697e-01 6.69215124e-01 5.47455245e-01\n",
      "  4.47848882e-01]\n",
      " [1.00000000e+00 7.41426543e-01 5.49713319e-01 4.07572046e-01\n",
      "  3.02184733e-01]\n",
      " [1.00000000e+00 1.85025562e-03 3.42344585e-06 6.33424991e-09\n",
      "  1.17199815e-11]\n",
      " [1.00000000e+00 4.45701173e-01 1.98649535e-01 8.85383308e-02\n",
      "  3.94616378e-02]\n",
      " [1.00000000e+00 7.21550775e-01 5.20635520e-01 3.75664963e-01\n",
      "  2.71061345e-01]\n",
      " [1.00000000e+00 1.36401560e-01 1.86053856e-02 2.53780362e-03\n",
      "  3.46160373e-04]\n",
      " [1.00000000e+00 3.83380933e-01 1.46980940e-01 5.63496899e-02\n",
      "  2.16033967e-02]\n",
      " [1.00000000e+00 9.23120672e-01 8.52151775e-01 7.86638920e-01\n",
      "  7.26162648e-01]\n",
      " [1.00000000e+00 1.34955203e-01 1.82129069e-02 2.45792656e-03\n",
      "  3.31709979e-04]\n",
      " [1.00000000e+00 8.40870147e-01 7.07062604e-01 5.94547836e-01\n",
      "  4.99937526e-01]\n",
      " [1.00000000e+00 2.48683715e-01 6.18435900e-02 1.53794937e-02\n",
      "  3.82462962e-03]\n",
      " [1.00000000e+00 1.57588158e-01 2.48340274e-02 3.91354863e-03\n",
      "  6.16728919e-04]\n",
      " [1.00000000e+00 6.06528481e-01 3.67876798e-01 2.23127755e-01\n",
      "  1.35333338e-01]\n",
      " [1.00000000e+00 9.97436439e-01 9.94879449e-01 9.92329015e-01\n",
      "  9.89785119e-01]\n",
      " [1.00000000e+00 4.89086739e-02 2.39205838e-03 1.16992403e-04\n",
      "  5.72194329e-06]\n",
      " [1.00000000e+00 2.50878105e-01 6.29398235e-02 1.57902236e-02\n",
      "  3.96142138e-03]\n",
      " [1.00000000e+00 6.93932090e-01 4.81541746e-01 3.34157271e-01\n",
      "  2.31882453e-01]\n",
      " [1.00000000e+00 6.72896800e-01 4.52790104e-01 3.04681012e-01\n",
      "  2.05018878e-01]\n",
      " [1.00000000e+00 5.07889338e-01 2.57951580e-01 1.31010857e-01\n",
      "  6.65390174e-02]\n",
      " [1.00000000e+00 4.50805808e-01 2.03225876e-01 9.16154054e-02\n",
      "  4.13007568e-02]\n",
      " [1.00000000e+00 8.26278389e-02 6.82735976e-03 5.64129982e-04\n",
      "  4.66128412e-05]\n",
      " [1.00000000e+00 8.58913691e-01 7.37732729e-01 6.33648741e-01\n",
      "  5.44249579e-01]\n",
      " [1.00000000e+00 8.64202033e-01 7.46845154e-01 6.45425100e-01\n",
      "  5.57777684e-01]\n",
      " [1.00000000e+00 5.62782732e-01 3.16724404e-01 1.78247025e-01\n",
      "  1.00314348e-01]\n",
      " [1.00000000e+00 9.24807839e-01 8.55269539e-01 7.90959975e-01\n",
      "  7.31485985e-01]\n",
      " [1.00000000e+00 4.18242780e-01 1.74927023e-01 7.31619643e-02\n",
      "  3.05994633e-02]\n",
      " [1.00000000e+00 1.97375647e-01 3.89571460e-02 7.68919190e-03\n",
      "  1.51765923e-03]\n",
      " [1.00000000e+00 9.05384562e-01 8.19721205e-01 7.42162924e-01\n",
      "  6.71942854e-01]\n",
      " [1.00000000e+00 1.13226903e-01 1.28203315e-02 1.45160642e-03\n",
      "  1.64360899e-04]\n",
      " [1.00000000e+00 3.16894807e-01 1.00422319e-01 3.18233114e-02\n",
      "  1.00846422e-02]\n",
      " [1.00000000e+00 2.34786763e-01 5.51248240e-02 1.29425790e-02\n",
      "  3.03874622e-03]\n",
      " [1.00000000e+00 5.95072991e-01 3.54111864e-01 2.10722406e-01\n",
      "  1.25395212e-01]\n",
      " [1.00000000e+00 8.77773922e-01 7.70487057e-01 6.76313446e-01\n",
      "  5.93650306e-01]\n",
      " [1.00000000e+00 2.65434013e-01 7.04552151e-02 1.87012105e-02\n",
      "  4.96393734e-03]\n",
      " [1.00000000e+00 2.21094740e-01 4.88828840e-02 1.08077485e-02\n",
      "  2.38953635e-03]\n",
      " [1.00000000e+00 7.80916666e-01 6.09830840e-01 4.76227066e-01\n",
      "  3.71893653e-01]\n",
      " [1.00000000e+00 9.47599232e-01 8.97944304e-01 8.50891333e-01\n",
      "  8.06303973e-01]\n",
      " [1.00000000e+00 2.94645135e-01 8.68157556e-02 2.55798400e-02\n",
      "  7.53697541e-03]\n",
      " [1.00000000e+00 4.89410254e-02 2.39522396e-03 1.17224717e-04\n",
      "  5.73709784e-06]\n",
      " [1.00000000e+00 2.32940162e-01 5.42611192e-02 1.26395939e-02\n",
      "  2.94426906e-03]\n",
      " [1.00000000e+00 4.69818749e-01 2.20729657e-01 1.03702931e-01\n",
      "  4.87215813e-02]\n",
      " [1.00000000e+00 8.88196700e-01 7.88893378e-01 7.00692495e-01\n",
      "  6.22352762e-01]\n",
      " [1.00000000e+00 4.52346281e-01 2.04617158e-01 9.25578105e-02\n",
      "  4.18681814e-02]\n",
      " [1.00000000e+00 4.89572719e-01 2.39681447e-01 1.17341498e-01\n",
      "  5.74471961e-02]\n",
      " [1.00000000e+00 3.10903353e-01 9.66608950e-02 3.00521964e-02\n",
      "  9.34332863e-03]\n",
      " [1.00000000e+00 4.79162541e-01 2.29596741e-01 1.10014158e-01\n",
      "  5.27146633e-02]\n",
      " [1.00000000e+00 4.55349782e-01 2.07343424e-01 9.44137829e-02\n",
      "  4.29912955e-02]\n",
      " [1.00000000e+00 6.74202785e-01 4.54549396e-01 3.06458469e-01\n",
      "  2.06615153e-01]\n",
      " [1.00000000e+00 4.60409383e-01 2.11976800e-01 9.75961075e-02\n",
      "  4.49341636e-02]\n",
      " [1.00000000e+00 2.25723057e-01 5.09508983e-02 1.15007925e-02\n",
      "  2.59599403e-03]\n",
      " [1.00000000e+00 9.06422603e-01 8.21601936e-01 7.44718565e-01\n",
      "  6.75029741e-01]\n",
      " [1.00000000e+00 3.17379465e-01 1.00729725e-01 3.19695460e-02\n",
      "  1.01464774e-02]\n",
      " [1.00000000e+00 8.74780934e-01 7.65241682e-01 6.69418834e-01\n",
      "  5.85594832e-01]\n",
      " [1.00000000e+00 2.74656885e-01 7.54364043e-02 2.07191278e-02\n",
      "  5.69065110e-03]\n",
      " [1.00000000e+00 3.23520850e-01 1.04665741e-01 3.38615494e-02\n",
      "  1.09549172e-02]\n",
      " [1.00000000e+00 2.06902015e-01 4.28084439e-02 8.85715332e-03\n",
      "  1.83256287e-03]\n",
      " [1.00000000e+00 1.27954029e-01 1.63722336e-02 2.09489325e-03\n",
      "  2.68050032e-04]\n",
      " [1.00000000e+00 6.06165165e-01 3.67436207e-01 2.22727029e-01\n",
      "  1.35009366e-01]\n",
      " [1.00000000e+00 5.45274313e-01 2.97324076e-01 1.62123181e-01\n",
      "  8.84016063e-02]\n",
      " [1.00000000e+00 2.09110706e-01 4.37272875e-02 9.14384397e-03\n",
      "  1.91207567e-03]]\n"
     ]
    }
   ],
   "source": [
    "coefficients = np.array([0, -1., 8., -17., 10.])\n",
    "input_dim, output_dim = 1, 1\n",
    "noise_std = 0.01\n",
    "num_data = 80\n",
    "inputs = rng.uniform(size=(num_data, input_dim))\n",
    "epsilons = rng.normal(size=num_data)\n",
    "targets = (polynomial_function(inputs[:, 0], coefficients) + \n",
    "           epsilons * noise_std)[:, None]"
   ]
  },
  {
   "cell_type": "markdown",
   "metadata": {},
   "source": [
    "We will split the generated data points in to equal sized training and validation data sets and use these to create data provider objects which we can use to train models in our framework. As the dataset is small here we will use a batch size equal to the size of the data set. Run the cell below to split the data and set up the data provider objects."
   ]
  },
  {
   "cell_type": "code",
   "execution_count": 30,
   "metadata": {},
   "outputs": [],
   "source": [
    "from mlp.data_providers import DataProvider\n",
    "num_train = num_data // 2\n",
    "batch_size = num_train\n",
    "inputs_train, targets_train = inputs[:num_train], targets[:num_train]\n",
    "inputs_valid, targets_valid = inputs[num_train:], targets[num_train:]\n",
    "train_data = DataProvider(inputs_train, targets_train, batch_size=batch_size, rng=rng)\n",
    "valid_data = DataProvider(inputs_valid, targets_valid, batch_size=batch_size, rng=rng)"
   ]
  },
  {
   "cell_type": "markdown",
   "metadata": {},
   "source": [
    "We can now visualise the data we will be modelling. Run the cell below to plot the target outputs against inputs for both the training and validation sets. Note the clear underlying smooth functional relationship evident in the noisy data."
   ]
  },
  {
   "cell_type": "code",
   "execution_count": 31,
   "metadata": {},
   "outputs": [
    {
     "data": {
      "image/png": "[encoded data removed]",
      "text/plain": [
       "<Figure size 800x400 with 1 Axes>"
      ]
     },
     "metadata": {},
     "output_type": "display_data"
    }
   ],
   "source": [
    "fig = plt.figure(figsize=(8, 4))\n",
    "ax = fig.add_subplot(111)\n",
    "ax.plot(inputs_train[:, 0], targets_train[:, 0], '.', label='training data')\n",
    "ax.plot(inputs_valid[:, 0], targets_valid[:, 0], '.', label='validation data')\n",
    "ax.set_xlabel('Inputs $x$', fontsize=14)\n",
    "ax.set_ylabel('Ouputs $y$', fontsize=14)\n",
    "ax.legend(loc='best')\n",
    "fig.tight_layout()"
   ]
  },
  {
   "cell_type": "markdown",
   "metadata": {},
   "source": [
    "### Model\n",
    "\n",
    "We will fit models with a varying number of parameters to the training data. As multi-layer logistic sigmoid models tend to perform poorly in regressions tasks like this we will instead use a [radial basis function (RBF) network](https://en.wikipedia.org/wiki/Radial_basis_function_network).\n",
    "\n",
    "This model predicts the output as the weighted sum of basis functions (here Gaussian like bumps) tiled across the input space. The cell below generates a random set of weights and bias for a RBF network and plots the modelled input-output function across inputs $[0, 1]$. Run the cell below for several different number of weight parameters (specified with `num_weights` variable) to get a feel for the sort of predictions the RBF network models produce."
   ]
  },
  {
   "cell_type": "code",
   "execution_count": 32,
   "metadata": {},
   "outputs": [
    {
     "data": {
      "text/plain": [
       "Text(0, 0.5, 'Output')"
      ]
     },
     "execution_count": 32,
     "metadata": {},
     "output_type": "execute_result"
    },
    {
     "data": {
      "image/png": "[encoded data removed]",
      "text/plain": [
       "<Figure size 1200x400 with 1 Axes>"
      ]
     },
     "metadata": {},
     "output_type": "display_data"
    }
   ],
   "source": [
    "num_weights = 15\n",
    "weights_scale = 1.\n",
    "bias_scale = 1.\n",
    "\n",
    "def basis_function(x, centre, scale):\n",
    "    return np.exp(-(x - centre)**2 / scale**2)\n",
    "\n",
    "weights = rng.normal(size=num_weights) * weights_scale\n",
    "bias = rng.normal() * bias_scale\n",
    "\n",
    "centres = np.linspace(0, 1, weights.shape[0])\n",
    "scale = 1. / weights.shape[0]\n",
    "\n",
    "xs = np.linspace(0, 1, 200)\n",
    "ys = np.zeros(xs.shape[0])\n",
    "\n",
    "fig = plt.figure(figsize=(12, 4))\n",
    "ax = fig.add_subplot(1, 1, 1)\n",
    "for weight, centre in zip(weights, centres):\n",
    "    ys += weight * basis_function(xs, centre, scale)\n",
    "ys += bias\n",
    "ax.plot(xs, ys)\n",
    "ax.set_xlabel('Input', fontsize=14)\n",
    "ax.set_ylabel('Output', fontsize=14)"
   ]
  },
  {
   "cell_type": "markdown",
   "metadata": {},
   "source": [
    "You do not need to study the details of how to implement this model. All of the additional code you need to fit RBF networks is provided in the `RadialBasisFunctionLayer` in the `mlp.layers` module. The `RadialBasisFunctionLayer` class has the same interface as the layer classes we encountered in the previous lab, defining both `fprop` and `bprop` methods, and we can therefore include it as a layer in a `MultipleLayerModel` as with any other layer. \n",
    "\n",
    "Here we will use the `RadialBasisFunctionLayer` as the first layer in a two layer model. This first layer calculates the basis function terms which are then be weighted and summed together in an `AffineLayer`, the second and final layer. This illustrates the advantage of using a modular framework - we can reuse the code we previously implemented to train a quite different model architecture just by defining a new layer class. \n",
    "\n",
    "Run the cell below which contains some necessary setup code."
   ]
  },
  {
   "cell_type": "code",
   "execution_count": 33,
   "metadata": {},
   "outputs": [],
   "source": [
    "from mlp.models import MultipleLayerModel\n",
    "from mlp.layers import AffineLayer, RadialBasisFunctionLayer\n",
    "from mlp.errors import SumOfSquaredDiffsError\n",
    "from mlp.initialisers import ConstantInit, UniformInit\n",
    "from mlp.learning_rules import GradientDescentLearningRule\n",
    "from mlp.optimisers import Optimiser\n",
    "\n",
    "# Regression problem therefore use sum of squared differences error\n",
    "error = SumOfSquaredDiffsError()\n",
    "# Use basic gradient descent learning rule with fixed learning rate\n",
    "learning_rule = GradientDescentLearningRule(0.1)\n",
    "# Initialise weights from uniform distribution and zero bias\n",
    "weights_init = UniformInit(-0.1, 0.1)\n",
    "biases_init = ConstantInit(0.)\n",
    "# Train all models for 2000 epochs\n",
    "num_epoch = 2000"
   ]
  },
  {
   "cell_type": "markdown",
   "metadata": {},
   "source": [
    "The next cell defines RBF network models with varying number of weight parameters (equal to the number of basis functions) and fits each to the training set, recording the final training and validation set errors for the fitted models. Run it now to fit the models and calculate the error values."
   ]
  },
  {
   "cell_type": "code",
   "execution_count": 34,
   "metadata": {},
   "outputs": [
    {
     "name": "stdout",
     "output_type": "stream",
     "text": [
      "--------------------------------------------------------------------------------\n",
      "Training model with 2 weights\n",
      "--------------------------------------------------------------------------------\n",
      "  Final training set error: 2.0e-03\n",
      "  Final validation set error: 1.1e-03\n",
      "--------------------------------------------------------------------------------\n",
      "Training model with 5 weights\n",
      "--------------------------------------------------------------------------------\n",
      "  Final training set error: 4.5e-04\n",
      "  Final validation set error: 3.0e-04\n",
      "--------------------------------------------------------------------------------\n",
      "Training model with 10 weights\n",
      "--------------------------------------------------------------------------------\n",
      "  Final training set error: 5.1e-05\n",
      "  Final validation set error: 8.3e-05\n",
      "--------------------------------------------------------------------------------\n",
      "Training model with 25 weights\n",
      "--------------------------------------------------------------------------------\n",
      "  Final training set error: 3.9e-05\n",
      "  Final validation set error: 9.5e-05\n",
      "--------------------------------------------------------------------------------\n",
      "Training model with 50 weights\n",
      "--------------------------------------------------------------------------------\n",
      "  Final training set error: 1.5e-05\n",
      "  Final validation set error: 1.6e-03\n",
      "--------------------------------------------------------------------------------\n",
      "Training model with 100 weights\n",
      "--------------------------------------------------------------------------------\n",
      "  Final training set error: 1.0e-05\n",
      "  Final validation set error: 4.2e-03\n"
     ]
    }
   ],
   "source": [
    "num_weight_list = [2, 5, 10, 25, 50, 100]\n",
    "models = []\n",
    "train_errors = []\n",
    "valid_errors = []\n",
    "for num_weight in num_weight_list:\n",
    "    model = MultipleLayerModel([\n",
    "        RadialBasisFunctionLayer(num_weight),\n",
    "        AffineLayer(input_dim * num_weight, output_dim, \n",
    "                    weights_init, biases_init)\n",
    "    ])\n",
    "    optimiser = Optimiser(model, error, learning_rule, \n",
    "                          train_data, valid_data)\n",
    "    print('-' * 80)\n",
    "    print('Training model with {0} weights'.format(num_weight))\n",
    "    print('-' * 80)\n",
    "    _ = optimiser.train(num_epoch, -1)\n",
    "    outputs_train = model.fprop(inputs_train)[-1]\n",
    "    outputs_valid = model.fprop(inputs_valid)[-1]\n",
    "    models.append(model)\n",
    "    train_errors.append(error(outputs_train, targets_train))\n",
    "    valid_errors.append(error(outputs_valid, targets_valid))\n",
    "    print('  Final training set error: {0:.1e}'.format(train_errors[-1]))\n",
    "    print('  Final validation set error: {0:.1e}'.format(valid_errors[-1]))"
   ]
  },
  {
   "cell_type": "markdown",
   "metadata": {},
   "source": [
    "In the cell below write code to [plot bar charts](http://matplotlib.org/examples/api/barchart_demo.html) of the training and validation set errors for the different fitted models.\n",
    "\n",
    "Some questions to think about from the plots:\n",
    "\n",
    "  * Do the models with more free parameters fit the training data better or worse?\n",
    "  * What does the validation set error value tell us about the models?\n",
    "  * Of the models fitted here which would you say seems like it is most likely to generalise well to unseen data? \n",
    "  * Do any of the models seem to be overfitting?"
   ]
  },
  {
   "cell_type": "code",
   "execution_count": null,
   "metadata": {},
   "outputs": [],
   "source": [
    "raise NotImplementedError('Write me!')"
   ]
  },
  {
   "cell_type": "markdown",
   "metadata": {},
   "source": [
    "Now let's visualise what the fitted model's predictions look like across the whole input space compared to the 'true' function we were trying to fit. \n",
    "\n",
    "In the cell below, for each of the fitted models stored in the `models` list above:\n",
    "  * Compute output predictions for the model across a linearly spaced series of 500 input points between 0 and 1 in the input space.\n",
    "  * Plot the computed predicted outputs and true function values at the corresponding inputs as line plots on the same axis (use a new axis for each model).\n",
    "  * On the same axis plot the training data sets input-target pairs as points."
   ]
  },
  {
   "cell_type": "code",
   "execution_count": null,
   "metadata": {
    "scrolled": false
   },
   "outputs": [],
   "source": [
    "raise NotImplementedError('Write me!')"
   ]
  },
  {
   "cell_type": "markdown",
   "metadata": {},
   "source": [
    "You should be able to relate your answers to the questions above to what you see in these plots - ask a demonstrator if you are unsure what is going on. In particular for the models which appeared to be overfitting and generalising poorly you should now have an idea how this looks in terms of the model's predictions and how these relate to the training data points and true function values."
   ]
  },
  {
   "cell_type": "markdown",
   "metadata": {},
   "source": [
    "# PyTorch\n",
    "\n",
    "As we have see in the [previous lab](https://github.com/VICO-UoE/mlpractical/tree/mlp2023-24/lab3/notebooks/03_Multiple_layer_models.ipynb), our model shows signs of overfitting after $15$ epochs. \n",
    "\n",
    "Overfitting occurs when the model learns the training data too well, and fails to generalise to unseen data. In this case, the model learns the noise in the training data, and fails to learn the underlying function. \n",
    "\n",
    "The model may be too complex, and we can reduce the complexity by reducing the number of parameters. However, this may not be the best solution, as we may not be able to learn the underlying function with a simple model.\n",
    "\n",
    "In practice, a model that overfits the training data will have a low training error, but a high validation error.\n",
    "\n",
    "*What can we deduce if we observe a high training error and a high validation error?*\n",
    "\n",
    "Overfitting is a common problem in machine learning, and there are many techniques to avoid it. In this lab, we will explore one of them: *early stopping*."
   ]
  },
  {
   "cell_type": "code",
   "execution_count": 2,
   "metadata": {},
   "outputs": [
    {
     "data": {
      "text/plain": [
       "<torch._C.Generator at 0x7f358d844eb0>"
      ]
     },
     "execution_count": 2,
     "metadata": {},
     "output_type": "execute_result"
    }
   ],
   "source": [
    "import torch\n",
    "import torch.nn as nn\n",
    "import torch.optim as optim\n",
    "from torchvision import datasets,transforms\n",
    "from torch.utils.data.sampler import SubsetRandomSampler\n",
    "\n",
    "torch.manual_seed(seed)"
   ]
  },
  {
   "cell_type": "code",
   "execution_count": 3,
   "metadata": {},
   "outputs": [],
   "source": [
    "# Device configuration\n",
    "device = torch.device('cuda' if torch.cuda.is_available() else 'cpu')\n",
    "\n",
    "# Set training run hyperparameters\n",
    "batch_size = 128  # number of data points in a batch\n",
    "learning_rate = 0.001  # learning rate for gradient descent\n",
    "num_epochs = 50  # number of training epochs to perform\n",
    "stats_interval = 1  # epoch interval between recording and printing stats"
   ]
  },
  {
   "cell_type": "code",
   "execution_count": 4,
   "metadata": {},
   "outputs": [],
   "source": [
    "transform=transforms.Compose([\n",
    "        transforms.ToTensor(),\n",
    "        transforms.Normalize((0.1307,), (0.3081,))\n",
    "        ])\n",
    "\n",
    "train_dataset = datasets.MNIST('../data', train=True, download=True, transform=transform)\n",
    "test_dataset = datasets.MNIST('../data', train=False, download=True, transform=transform)\n",
    "\n",
    "valid_size=0.2 # Leave 20% of training set as validation set\n",
    "num_train = len(train_dataset)\n",
    "indices = list(range(num_train))\n",
    "split = int(np.floor(valid_size * num_train))\n",
    "np.random.shuffle(indices) # Shuffle indices in-place\n",
    "train_idx, valid_idx = indices[split:], indices[:split] # Split indices into training and validation sets\n",
    "train_sampler = SubsetRandomSampler(train_idx)\n",
    "valid_sampler = SubsetRandomSampler(valid_idx)\n",
    "\n",
    "# Create the dataloaders\n",
    "train_loader = torch.utils.data.DataLoader(train_dataset, batch_size=batch_size, sampler=train_sampler, pin_memory=True)\n",
    "valid_loader = torch.utils.data.DataLoader(train_dataset, batch_size=batch_size, sampler=valid_sampler, pin_memory=True)\n",
    "test_loader = torch.utils.data.DataLoader(test_dataset, batch_size=batch_size, shuffle=False, pin_memory=True)"
   ]
  },
  {
   "cell_type": "code",
   "execution_count": 5,
   "metadata": {},
   "outputs": [],
   "source": [
    "class MultipleLayerModel(nn.Module):\n",
    "    \"\"\"Multiple layer model.\"\"\"\n",
    "    def __init__(self, input_dim, output_dim, hidden_dim):\n",
    "        super().__init__()\n",
    "        self.flatten = nn.Flatten()\n",
    "        self.linear_relu_stack = nn.Sequential(\n",
    "            nn.Linear(input_dim, hidden_dim),\n",
    "            nn.ReLU(),\n",
    "            nn.Linear(hidden_dim, hidden_dim),\n",
    "            nn.ReLU(),\n",
    "            nn.Linear(hidden_dim, output_dim),\n",
    "        )\n",
    "        \n",
    "    def forward(self, x):\n",
    "        x = self.flatten(x)\n",
    "        logits = self.linear_relu_stack(x)\n",
    "        return logits\n",
    "    \n",
    "input_dim = 1*28*28\n",
    "output_dim = 10\n",
    "hidden_dim = 100\n",
    "\n",
    "model = MultipleLayerModel(input_dim, output_dim, hidden_dim).to(device)\n",
    "\n",
    "loss = nn.CrossEntropyLoss() # Cross-entropy loss function\n",
    "optimizer = optim.Adam(model.parameters(), lr=learning_rate) # Adam optimiser"
   ]
  },
  {
   "cell_type": "markdown",
   "metadata": {},
   "source": [
    "Early stopping is a simple technique to avoid overfitting. The idea is to stop training when the validation error starts to increase. This is usually done by monitoring the validation error during training, and stopping when it has not decreased for a certain number of epochs.\n",
    "\n",
    "*Can we state that overfitting is ultimatelly inevitable given training over a very large number of epochs?*\n",
    "\n",
    "In this section, we will implement early stopping in PyTorch. We will use the same model as in the previous lab, but we will train it for $50$ epochs with an early stopping."
   ]
  },
  {
   "cell_type": "code",
   "execution_count": 6,
   "metadata": {},
   "outputs": [],
   "source": [
    "class EarlyStopping:\n",
    "    \"\"\"Early stops the training if validation loss doesn't improve after a given patience.\"\"\"\n",
    "    def __init__(self, patience=5, min_delta=0):\n",
    "\n",
    "        self.patience = patience # Number of epochs with no improvement after which training will be stopped\n",
    "        self.min_delta = min_delta # Minimum change in the monitored quantity to qualify as an improvement\n",
    "        self.counter = 0\n",
    "        self.min_validation_loss = float('inf')\n",
    "        self.early_stop = False\n",
    "\n",
    "    def __call__(self, validation_loss):\n",
    "        # If validation loss is lower than minimum validation loss so far,\n",
    "        # reset counter and set minimum validation loss to current validation loss\n",
    "        if validation_loss < self.min_validation_loss:\n",
    "            self.min_validation_loss = validation_loss\n",
    "            self.counter = 0\n",
    "        # If validation loss hasn't improved since minimum validation loss,\n",
    "        # increment counter\n",
    "        elif validation_loss > (self.min_validation_loss + self.min_delta):\n",
    "            self.counter += 1\n",
    "            # If counter has reached patience, set early_stop flag to True\n",
    "            if self.counter >= self.patience: \n",
    "                self.early_stop = True"
   ]
  },
  {
   "cell_type": "code",
   "execution_count": 7,
   "metadata": {},
   "outputs": [
    {
     "name": "stdout",
     "output_type": "stream",
     "text": [
      "Epoch: 0 \tError(train): 0.355964 \tError(valid): 0.183315 \n",
      "Epoch: 1 \tError(train): 0.147698 \tError(valid): 0.134773 \n",
      "Epoch: 2 \tError(train): 0.102859 \tError(valid): 0.104614 \n",
      "Epoch: 3 \tError(train): 0.078670 \tError(valid): 0.096019 \n",
      "Epoch: 4 \tError(train): 0.062736 \tError(valid): 0.091331 \n",
      "Epoch: 5 \tError(train): 0.051279 \tError(valid): 0.088659 \n",
      "Epoch: 6 \tError(train): 0.043374 \tError(valid): 0.095392 \n",
      "Epoch: 7 \tError(train): 0.036315 \tError(valid): 0.087902 \n",
      "Epoch: 8 \tError(train): 0.028164 \tError(valid): 0.083525 \n",
      "Epoch: 9 \tError(train): 0.024095 \tError(valid): 0.091756 \n",
      "Epoch: 10 \tError(train): 0.022314 \tError(valid): 0.095794 \n",
      "Epoch: 11 \tError(train): 0.019546 \tError(valid): 0.085911 \n",
      "Epoch: 12 \tError(train): 0.016666 \tError(valid): 0.106720 \n",
      "Epoch: 13 \tError(train): 0.016401 \tError(valid): 0.111877 \n",
      "Epoch: 14 \tError(train): 0.015071 \tError(valid): 0.096952 \n",
      "Epoch: 15 \tError(train): 0.012418 \tError(valid): 0.096388 \n",
      "Early stopping\n"
     ]
    }
   ],
   "source": [
    "# Initialise early stopping object\n",
    "early_stopping = EarlyStopping(patience=5, min_delta=0.01)\n",
    "\n",
    "# Keep track of the loss values over training\n",
    "train_loss = [] \n",
    "valid_loss = []\n",
    "\n",
    "# Train model\n",
    "for i in range(num_epochs+1):\n",
    "    # Training\n",
    "    model.train()\n",
    "    batch_loss = []\n",
    "    for batch_idx, (x, t) in enumerate(train_loader):\n",
    "        x = x.to(device)\n",
    "        t = t.to(device)\n",
    "        \n",
    "        # Forward pass\n",
    "        y = model(x)\n",
    "        E_value = loss(y, t)\n",
    "        \n",
    "        # Backward pass\n",
    "        optimizer.zero_grad()\n",
    "        E_value.backward()\n",
    "        optimizer.step()\n",
    "        \n",
    "        # Logging\n",
    "        batch_loss.append(E_value.item())\n",
    "    \n",
    "    train_loss.append(np.mean(batch_loss))\n",
    "\n",
    "    # Validation\n",
    "    model.eval()\n",
    "    batch_loss = []\n",
    "    for batch_idx, (x, t) in enumerate(valid_loader):\n",
    "        x = x.to(device)\n",
    "        t = t.to(device)\n",
    "        \n",
    "        # Forward pass\n",
    "        y = model(x)\n",
    "        E_value = loss(y, t)\n",
    "        \n",
    "        # Logging\n",
    "        batch_loss.append(E_value.item())\n",
    "    \n",
    "    valid_loss.append(np.mean(batch_loss))\n",
    "\n",
    "    if i % stats_interval == 0:\n",
    "            print('Epoch: {} \\tError(train): {:.6f} \\tError(valid): {:.6f} '.format(\n",
    "                i, train_loss[-1], valid_loss[-1]))\n",
    "            \n",
    "    # Check for early stopping\n",
    "    early_stopping(valid_loss[-1])\n",
    "\n",
    "    if early_stopping.early_stop:\n",
    "        print(\"Early stopping\")\n",
    "        break # Stop training"
   ]
  },
  {
   "cell_type": "code",
   "execution_count": 9,
   "metadata": {},
   "outputs": [
    {
     "data": {
      "image/png": "[encoded data removed]",
      "text/plain": [
       "<Figure size 800x400 with 1 Axes>"
      ]
     },
     "metadata": {},
     "output_type": "display_data"
    }
   ],
   "source": [
    "# Plot the change in the validation and training set error over training.\n",
    "fig_1 = plt.figure(figsize=(8, 4))\n",
    "ax_1 = fig_1.add_subplot(111)\n",
    "ax_1.plot(train_loss, label='Error(train)')\n",
    "ax_1.plot(valid_loss, label='Error(valid)')\n",
    "ax_1.legend(loc=0)\n",
    "ax_1.set_xlabel('Epoch number')\n",
    "plt.show()"
   ]
  }
 ],
 "metadata": {
  "anaconda-cloud": {},
  "kernelspec": {
   "display_name": "Python 3 (ipykernel)",
   "language": "python",
   "name": "python3"
  },
  "language_info": {
   "codemirror_mode": {
    "name": "ipython",
    "version": 3
   },
   "file_extension": ".py",
   "mimetype": "text/x-python",
   "name": "python",
   "nbconvert_exporter": "python",
   "pygments_lexer": "ipython3",
   "version": "3.11.5"
  }
 },
 "nbformat": 4,
 "nbformat_minor": 1
}
